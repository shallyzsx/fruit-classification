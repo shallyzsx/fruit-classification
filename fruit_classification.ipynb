{
 "cells": [
  {
   "cell_type": "markdown",
   "metadata": {},
   "source": [
    "# python实现水果多分类问题"
   ]
  },
  {
   "cell_type": "markdown",
   "metadata": {},
   "source": [
    "### 1.图像处理：\n",
    "#### 利用Otsu法将图像二值话，实现去噪音的功能\n",
    "### 2.颜色特征提取：\n",
    "#### 将RGB的一、二、三阶矩作为特征（9维）；重组HSV形成81维特征\n",
    "### 3.纹理特征提取：\n",
    "#### 利用LBP算子得到纹理特征，并计算一、二、三阶矩以及平滑度作为特征（4维）\n",
    "### 4.构建分类器：\n",
    "#### 输入85维特征及对应标签，构建3个隐藏层每层15个神经元的分类器\n",
    "### 5.预测及评分"
   ]
  },
  {
   "cell_type": "code",
   "execution_count": 1,
   "metadata": {},
   "outputs": [],
   "source": [
    "import os\n",
    "import cv2\n",
    "import pandas as pd\n",
    "import numpy as np\n",
    "from matplotlib import pyplot as plt\n",
    "from skimage.feature import local_binary_pattern\n",
    "from sklearn.neural_network import MLPClassifier"
   ]
  },
  {
   "cell_type": "markdown",
   "metadata": {},
   "source": [
    "### 读取图片并做预处理：利用Otsu法将图片分割为二值图像"
   ]
  },
  {
   "cell_type": "code",
   "execution_count": 2,
   "metadata": {},
   "outputs": [],
   "source": [
    "def form_img(path, pic_name):\n",
    "    pic_path = os.path.join(path,pic_name)\n",
    "    img = cv2.imread(pic_path)\n",
    "    gray_img = cv2.cvtColor(img,cv2.COLOR_BGR2GRAY)\n",
    "    (t,thresh) = cv2.threshold(gray_img,0,255,cv2.THRESH_TOZERO_INV+cv2.THRESH_OTSU)\n",
    "    kernel = cv2.getStructuringElement(cv2.MORPH_ELLIPSE,(10,10))\n",
    "    thresh = cv2.morphologyEx(thresh,cv2.MORPH_CLOSE,kernel)\n",
    "    final_pic = cv2.cvtColor(cv2.bitwise_and(img, img,mask=thresh),cv2.COLOR_BGR2RGB)\n",
    "    return final_pic"
   ]
  },
  {
   "cell_type": "markdown",
   "metadata": {},
   "source": [
    "### 颜色特征提取：RGB颜色矩阵中的一、二、三阶作为特征"
   ]
  },
  {
   "cell_type": "code",
   "execution_count": 3,
   "metadata": {},
   "outputs": [],
   "source": [
    "def color_moments(img):\n",
    "    if img is None:\n",
    "        return\n",
    "    # Split the channels - R,G,B\n",
    "    r = img[:,:,0]\n",
    "    g = img[:,:,1]\n",
    "    b = img[:,:,2]\n",
    "    # Initialize the color feature\n",
    "    color_feature = []\n",
    "    # N = h.shape[0] * h.shape[1]\n",
    "    # The first central moment - average \n",
    "    r_mean = np.mean(r)  # np.sum(h)/float(N)\n",
    "    g_mean = np.mean(g)  # np.sum(s)/float(N)\n",
    "    b_mean = np.mean(b)  # np.sum(v)/float(N)\n",
    "    color_feature.extend([r_mean, g_mean, b_mean])\n",
    "    # The second central moment - standard deviation\n",
    "    r_std = np.std(r)  # np.sqrt(np.mean(abs(h - h.mean())**2))\n",
    "    g_std = np.std(g)  # np.sqrt(np.mean(abs(s - s.mean())**2))\n",
    "    b_std = np.std(b)  # np.sqrt(np.mean(abs(v - v.mean())**2))\n",
    "    color_feature.extend([r_std, g_std, b_std])\n",
    "    # The third central moment - the third root of the skewness\n",
    "    r_skewness = np.mean(abs(r - r.mean())**3)\n",
    "    g_skewness = np.mean(abs(g - g.mean())**3)\n",
    "    b_skewness = np.mean(abs(b - b.mean())**3)\n",
    "    r_thirdMoment = r_skewness**(1./3)\n",
    "    g_thirdMoment = g_skewness**(1./3)\n",
    "    b_thirdMoment = b_skewness**(1./3)\n",
    "    color_feature.extend([r_thirdMoment, g_thirdMoment, b_thirdMoment])\n",
    "\n",
    "    return color_feature"
   ]
  },
  {
   "cell_type": "markdown",
   "metadata": {},
   "source": [
    "### 颜色特征提取：HSV非均匀量化"
   ]
  },
  {
   "cell_type": "code",
   "execution_count": 4,
   "metadata": {},
   "outputs": [],
   "source": [
    "hlist = [20, 40, 75, 155, 190, 270, 290, 316, 360]\n",
    "svlist = [21, 178, 255]\n",
    "\n",
    "def quantilize(h, s, v):\n",
    "    '''hsv直方图量化'''\n",
    "    # value : [21, 144, 23] h, s, v\n",
    "    h = h * 2\n",
    "    for i in range(len(hlist)):\n",
    "        if h <= hlist[i]:\n",
    "            h = i % 8\n",
    "            break\n",
    "    for i in range(len(svlist)):\n",
    "        if s <= svlist[i]:\n",
    "            s = i\n",
    "            break\n",
    "    for i in range(len(svlist)):\n",
    "        if v <= svlist[i]:\n",
    "            v = i\n",
    "            break\n",
    "    return 9 * h + 3 * s + v"
   ]
  },
  {
   "cell_type": "code",
   "execution_count": 5,
   "metadata": {},
   "outputs": [],
   "source": [
    "def colors(img):\n",
    "    hsv = cv2.cvtColor(img, cv2.COLOR_RGB2HSV)\n",
    "    quantilize_ufunc = np.frompyfunc(quantilize, 3, 1)\n",
    "    nhsv = quantilize_ufunc(hsv[:,:,0], hsv[:,:,1], hsv[:,:,2]).astype(np.uint8) # 由于frompyfunc函数返回结果为对象，所以需要转换类型\n",
    "    hist = cv2.calcHist([nhsv], [0], None, [72], [0,71]) # 40x faster than np.histogram\n",
    "    hist = hist.reshape(1, hist.shape[0]).astype(np.int32).tolist()[0]\n",
    "    return hist"
   ]
  },
  {
   "cell_type": "markdown",
   "metadata": {},
   "source": [
    "### 纹理特征提取：LBP"
   ]
  },
  {
   "cell_type": "code",
   "execution_count": 6,
   "metadata": {},
   "outputs": [],
   "source": [
    "def hist_param(hist):\n",
    "    lbp_hist_M = np.mean(hist)\n",
    "    lbp_hist_Sigma = np.std(hist)\n",
    "    lbp_hist_Sk = np.mean(abs(hist - hist.mean())**3)\n",
    "    lbp_hist_Th = lbp_hist_Sk**(1./3) \n",
    "    return [lbp_hist_M,lbp_hist_Sigma,lbp_hist_Sk,lbp_hist_Th]"
   ]
  },
  {
   "cell_type": "code",
   "execution_count": 7,
   "metadata": {},
   "outputs": [],
   "source": [
    "def lbp_trans(img):\n",
    "    image = cv2.cvtColor(img, cv2.COLOR_BGR2RGB)\n",
    "    image_gray = cv2.cvtColor(image, cv2.COLOR_BGR2GRAY)\n",
    "    lbp = local_binary_pattern(image_gray, 8, 1, 'nri_uniform')\n",
    "    max_bins = int(lbp.max() + 1)\n",
    "    lbp_hist = np.histogram(lbp, normed=True, bins=max_bins, range=(0, max_bins))[0]\n",
    "    return lbp_hist"
   ]
  },
  {
   "cell_type": "markdown",
   "metadata": {},
   "source": [
    "### 归一化数据"
   ]
  },
  {
   "cell_type": "code",
   "execution_count": 8,
   "metadata": {},
   "outputs": [],
   "source": [
    "def min_max_scaler(l):\n",
    "    l_min = np.min(l)\n",
    "    l_max = np.max(l)\n",
    "    mm_scaler = [(x-l_min)/(l_max-l_min) for x in l]\n",
    "    return mm_scaler"
   ]
  },
  {
   "cell_type": "markdown",
   "metadata": {},
   "source": [
    "### 生成85维特征结果"
   ]
  },
  {
   "cell_type": "code",
   "execution_count": 9,
   "metadata": {},
   "outputs": [],
   "source": [
    "def form_res(path,pic_name):\n",
    "    img = form_img(path,pic_name)\n",
    "    tmp1 = color_moments(img)\n",
    "    res1 = min_max_scaler(tmp1)\n",
    "    tmp2 = colors(img)\n",
    "    res2 = min_max_scaler(tmp2)\n",
    "    lbp_hist = lbp_trans(img)\n",
    "    tmp3 = hist_param(lbp_hist)\n",
    "    res3 = min_max_scaler(tmp3)\n",
    "    result = res1+res2+res3\n",
    "    return result"
   ]
  },
  {
   "cell_type": "markdown",
   "metadata": {},
   "source": [
    "### 构建样本集：训练集(220张图片）与测试集（55张图片）"
   ]
  },
  {
   "cell_type": "code",
   "execution_count": 14,
   "metadata": {},
   "outputs": [],
   "source": [
    "def train_test_set(set_path):\n",
    "    list_name = os.listdir(set_path)\n",
    "    label = [x.split(\"_\")[0] for x in list_name]\n",
    "    replace_dict={'apple':1,'banana':2,'orange':3}\n",
    "    y = [replace_dict[i] if i in replace_dict else i for i in label]\n",
    "    y = np.array(y)\n",
    "    \n",
    "    X = np.zeros(85)\n",
    "    for p in list_name:\n",
    "        tmp = form_res(set_path,p)\n",
    "        X = np.vstack((X,tmp))\n",
    "    X = X[1:]\n",
    "    return X, y"
   ]
  },
  {
   "cell_type": "code",
   "execution_count": 15,
   "metadata": {},
   "outputs": [
    {
     "name": "stderr",
     "output_type": "stream",
     "text": [
      "<ipython-input-7-f6215002c770>:6: VisibleDeprecationWarning: Passing `normed=True` on non-uniform bins has always been broken, and computes neither the probability density function nor the probability mass function. The result is only correct if the bins are uniform, when density=True will produce the same result anyway. The argument will be removed in a future version of numpy.\n",
      "  lbp_hist = np.histogram(lbp, normed=True, bins=max_bins, range=(0, max_bins))[0]\n"
     ]
    }
   ],
   "source": [
    "train_set = r'C:\\Users\\shallyzhang\\Desktop\\MZ06\\train'\n",
    "X_train, y_train = train_test_set(train_set)"
   ]
  },
  {
   "cell_type": "code",
   "execution_count": 16,
   "metadata": {},
   "outputs": [
    {
     "name": "stderr",
     "output_type": "stream",
     "text": [
      "<ipython-input-7-f6215002c770>:6: VisibleDeprecationWarning: Passing `normed=True` on non-uniform bins has always been broken, and computes neither the probability density function nor the probability mass function. The result is only correct if the bins are uniform, when density=True will produce the same result anyway. The argument will be removed in a future version of numpy.\n",
      "  lbp_hist = np.histogram(lbp, normed=True, bins=max_bins, range=(0, max_bins))[0]\n"
     ]
    }
   ],
   "source": [
    "test_set = r'C:\\Users\\shallyzhang\\Desktop\\MZ06\\test'\n",
    "X_test, y_test = train_test_set(test_set)"
   ]
  },
  {
   "cell_type": "code",
   "execution_count": 43,
   "metadata": {},
   "outputs": [
    {
     "data": {
      "text/plain": [
       "(220, 55)"
      ]
     },
     "execution_count": 43,
     "metadata": {},
     "output_type": "execute_result"
    }
   ],
   "source": [
    "len(y_train),len(y_test)"
   ]
  },
  {
   "cell_type": "markdown",
   "metadata": {},
   "source": [
    "### 构建分类器：隐藏层3层，每层15个神经元，循环5W次"
   ]
  },
  {
   "cell_type": "code",
   "execution_count": 40,
   "metadata": {},
   "outputs": [],
   "source": [
    "from sklearn.neural_network import MLPClassifier\n",
    "mlp = MLPClassifier(hidden_layer_sizes=(15,15,15),max_iter=50000)\n",
    "mlp.fit(X_train,y_train)\n",
    "predictions = mlp.predict(X_test)"
   ]
  },
  {
   "cell_type": "markdown",
   "metadata": {},
   "source": [
    "### 观测分类结果：1类（苹果）准确率90%，2类（香蕉）94%，3类（桔子）84%"
   ]
  },
  {
   "cell_type": "code",
   "execution_count": 41,
   "metadata": {},
   "outputs": [
    {
     "name": "stdout",
     "output_type": "stream",
     "text": [
      "[[18  0  1]\n",
      " [ 1 15  2]\n",
      " [ 1  1 16]]\n",
      "              precision    recall  f1-score   support\n",
      "\n",
      "           1       0.90      0.95      0.92        19\n",
      "           2       0.94      0.83      0.88        18\n",
      "           3       0.84      0.89      0.86        18\n",
      "\n",
      "    accuracy                           0.89        55\n",
      "   macro avg       0.89      0.89      0.89        55\n",
      "weighted avg       0.89      0.89      0.89        55\n",
      "\n"
     ]
    }
   ],
   "source": [
    "from sklearn.metrics import classification_report,confusion_matrix\n",
    "print(confusion_matrix(y_test,predictions))\n",
    "print(classification_report(y_test,predictions))"
   ]
  }
 ],
 "metadata": {
  "kernelspec": {
   "display_name": "Python 3",
   "language": "python",
   "name": "python3"
  },
  "language_info": {
   "codemirror_mode": {
    "name": "ipython",
    "version": 3
   },
   "file_extension": ".py",
   "mimetype": "text/x-python",
   "name": "python",
   "nbconvert_exporter": "python",
   "pygments_lexer": "ipython3",
   "version": "3.8.3"
  }
 },
 "nbformat": 4,
 "nbformat_minor": 4
}
